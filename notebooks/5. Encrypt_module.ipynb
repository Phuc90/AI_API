{
 "cells": [
  {
   "cell_type": "code",
   "execution_count": 15,
   "id": "4e1121d2",
   "metadata": {},
   "outputs": [
    {
     "data": {
      "text/plain": [
       "True"
      ]
     },
     "execution_count": 15,
     "metadata": {},
     "output_type": "execute_result"
    }
   ],
   "source": [
    "from cryptography.fernet import Fernet\n",
    "import pathlib\n",
    "import os\n",
    "from dotenv import load_dotenv\n",
    "load_dotenv()"
   ]
  },
  {
   "cell_type": "code",
   "execution_count": 2,
   "id": "3b993bbf",
   "metadata": {},
   "outputs": [],
   "source": [
    "def generate_keys():\n",
    "    return Fernet.generate_key().decode('UTF-8')\n"
   ]
  },
  {
   "cell_type": "code",
   "execution_count": 13,
   "id": "81f0a99f",
   "metadata": {},
   "outputs": [],
   "source": [
    "def encrypt_dir(input_dir,output_dir):\n",
    "    ENCRYPTION_KEY = os.environ.get('ENCRYPTION_KEY')\n",
    "    if not ENCRYPTION_KEY:\n",
    "        raise Exception('Key is not found')\n",
    "    fer = Fernet(ENCRYPTION_KEY)\n",
    "    input_dir = pathlib.Path(input_dir)\n",
    "    output_dir = pathlib.Path(output_dir)\n",
    "    input_dir.mkdir(exist_ok=True,parents=True)\n",
    "    output_dir.mkdir(exist_ok=True,parents=True)\n",
    "    \n",
    "    for path in input_dir.glob('*'):\n",
    "        _path_bytes = path.read_bytes()\n",
    "        data = fer.encrypt(_path_bytes)\n",
    "        rel_path = path.relative_to(input_dir)\n",
    "        dest_path = output_dir / rel_path\n",
    "        dest_path.write_bytes(data)\n",
    "        \n",
    "def decrypt_dir(secure_dir,output_dir):\n",
    "    ENCRYPTION_KEY = os.environ.get('ENCRYPTION_KEY')\n",
    "    if not ENCRYPTION_KEY:\n",
    "        raise Exception('Key is not found')\n",
    "    fer = Fernet(ENCRYPTION_KEY)\n",
    "    secure_dir = pathlib.Path(secure_dir)\n",
    "    output_dir = pathlib.Path(output_dir)\n",
    "    secure_dir.mkdir(exist_ok=True,parents=True)\n",
    "    output_dir.mkdir(exist_ok=True,parents=True)\n",
    "    \n",
    "    for path in secure_dir.glob('*'):\n",
    "        _path_bytes = path.read_bytes()\n",
    "        data = fer.decrypt(_path_bytes)\n",
    "        rel_path = path.relative_to(secure_dir)\n",
    "        dest_path = output_dir / rel_path\n",
    "        dest_path.write_bytes(data)\n",
    "    "
   ]
  },
  {
   "cell_type": "code",
   "execution_count": 12,
   "id": "dfdd539a",
   "metadata": {},
   "outputs": [],
   "source": [
    "encrypt_dir(str(IGNORED_DIR),str(SECURE_DIR))"
   ]
  },
  {
   "cell_type": "code",
   "execution_count": 14,
   "id": "81f44e15",
   "metadata": {},
   "outputs": [],
   "source": [
    "decrypt_dir(str(SECURE_DIR),str(DECRYPTED_DIR))"
   ]
  },
  {
   "cell_type": "code",
   "execution_count": null,
   "id": "fd93da7d",
   "metadata": {},
   "outputs": [],
   "source": []
  }
 ],
 "metadata": {
  "kernelspec": {
   "display_name": "Python 3 (ipykernel)",
   "language": "python",
   "name": "python3"
  },
  "language_info": {
   "codemirror_mode": {
    "name": "ipython",
    "version": 3
   },
   "file_extension": ".py",
   "mimetype": "text/x-python",
   "name": "python",
   "nbconvert_exporter": "python",
   "pygments_lexer": "ipython3",
   "version": "3.9.7"
  }
 },
 "nbformat": 4,
 "nbformat_minor": 5
}
