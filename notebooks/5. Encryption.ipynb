{
 "cells": [
  {
   "cell_type": "code",
   "execution_count": 1,
   "id": "635e9c7a",
   "metadata": {},
   "outputs": [
    {
     "name": "stdout",
     "output_type": "stream",
     "text": [
      "Requirement already satisfied: cryptography in /home/phuc90/anaconda3/envs/tf-casan-api/lib/python3.9/site-packages (36.0.0)\r\n",
      "Requirement already satisfied: cffi>=1.12 in /home/phuc90/anaconda3/envs/tf-casan-api/lib/python3.9/site-packages (from cryptography) (1.15.0)\r\n",
      "Requirement already satisfied: pycparser in /home/phuc90/anaconda3/envs/tf-casan-api/lib/python3.9/site-packages (from cffi>=1.12->cryptography) (2.21)\r\n"
     ]
    }
   ],
   "source": [
    "!pip install cryptography"
   ]
  },
  {
   "cell_type": "code",
   "execution_count": 6,
   "id": "4e1121d2",
   "metadata": {},
   "outputs": [],
   "source": [
    "from cryptography.fernet import Fernet\n",
    "import pathlib"
   ]
  },
  {
   "cell_type": "code",
   "execution_count": 43,
   "id": "3b993bbf",
   "metadata": {},
   "outputs": [
    {
     "data": {
      "text/plain": [
       "'-GMbAjRjbq6PssZ6fwDnPzR0liiNkWBgm0czfqOSNAs='"
      ]
     },
     "execution_count": 43,
     "metadata": {},
     "output_type": "execute_result"
    }
   ],
   "source": [
    "key = Fernet.generate_key().decode('UTF-8')\n",
    "key"
   ]
  },
  {
   "cell_type": "code",
   "execution_count": 44,
   "id": "dfdd539a",
   "metadata": {},
   "outputs": [
    {
     "data": {
      "text/plain": [
       "True"
      ]
     },
     "execution_count": 44,
     "metadata": {},
     "output_type": "execute_result"
    }
   ],
   "source": [
    "BASE_DIR = pathlib.Path().resolve().parent\n",
    "APP_DIR = BASE_DIR / 'app'\n",
    "APP_DIR.exists()"
   ]
  },
  {
   "cell_type": "code",
   "execution_count": 45,
   "id": "81f44e15",
   "metadata": {},
   "outputs": [],
   "source": [
    "IGNORED_DIR = APP_DIR / 'ignored'\n",
    "SECURE_DIR = APP_DIR / 'encrypted'\n",
    "DECRYPTED_DIR = APP_DIR / 'decrypted'\n",
    "SECURE_DIR.mkdir(exist_ok=True,parents=True)\n",
    "DECRYPTED_DIR.mkdir(exist_ok=True,parents=True)"
   ]
  },
  {
   "cell_type": "code",
   "execution_count": 46,
   "id": "bb8ee365",
   "metadata": {},
   "outputs": [
    {
     "name": "stdout",
     "output_type": "stream",
     "text": [
      "/mnt/c/Users/thien/Work_Space/Technology/Coding-Entrepreneurs/3.2 AI-Cassandra-API/app/ignored/astradb_connect.zip\n"
     ]
    }
   ],
   "source": [
    "for path in IGNORED_DIR.glob(\"*\"):\n",
    "    print(path)"
   ]
  },
  {
   "cell_type": "code",
   "execution_count": 47,
   "id": "0594cd76",
   "metadata": {},
   "outputs": [],
   "source": [
    "for path in IGNORED_DIR.glob('*'):\n",
    "    _path_bytes = path.read_bytes()\n",
    "    data = fer.encrypt(_path_bytes)\n",
    "    rel_path = path.relative_to(IGNORED_DIR)\n",
    "    dest_path = SECURE_DIR / rel_path\n",
    "    dest_path.write_bytes(data)\n",
    "    "
   ]
  },
  {
   "cell_type": "code",
   "execution_count": 48,
   "id": "3e6c72f6",
   "metadata": {},
   "outputs": [
    {
     "name": "stdout",
     "output_type": "stream",
     "text": [
      "/mnt/c/Users/thien/Work_Space/Technology/Coding-Entrepreneurs/3.2 AI-Cassandra-API/app/encrypted/astradb_connect.zip\n"
     ]
    }
   ],
   "source": [
    "for path in ENCRYPTED_DIR.glob('*'):\n",
    "    print(path)"
   ]
  },
  {
   "cell_type": "code",
   "execution_count": 49,
   "id": "9cf6fb07",
   "metadata": {},
   "outputs": [],
   "source": [
    "for path in SECURE_DIR.glob('*'):\n",
    "    _path_bytes = path.read_bytes()\n",
    "    data = fer.decrypt(_path_bytes)\n",
    "    rel_path = path.relative_to(SECURE_DIR)\n",
    "    dest_path = DECRYPTED_DIR / rel_path\n",
    "    dest_path.write_bytes(data)\n",
    "    "
   ]
  },
  {
   "cell_type": "code",
   "execution_count": null,
   "id": "fd93da7d",
   "metadata": {},
   "outputs": [],
   "source": []
  }
 ],
 "metadata": {
  "kernelspec": {
   "display_name": "Python 3 (ipykernel)",
   "language": "python",
   "name": "python3"
  },
  "language_info": {
   "codemirror_mode": {
    "name": "ipython",
    "version": 3
   },
   "file_extension": ".py",
   "mimetype": "text/x-python",
   "name": "python",
   "nbconvert_exporter": "python",
   "pygments_lexer": "ipython3",
   "version": "3.9.7"
  }
 },
 "nbformat": 4,
 "nbformat_minor": 5
}
