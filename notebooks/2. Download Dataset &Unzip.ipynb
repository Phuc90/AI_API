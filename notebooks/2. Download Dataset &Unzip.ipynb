{
 "cells": [
  {
   "cell_type": "code",
   "execution_count": 1,
   "id": "e4418234",
   "metadata": {},
   "outputs": [],
   "source": [
    "import pathlib\n"
   ]
  },
  {
   "cell_type": "code",
   "execution_count": 3,
   "id": "b282040b",
   "metadata": {},
   "outputs": [],
   "source": [
    "spam_url = \"https://archive.ics.uci.edu/ml/machine-learning-databases/00228/smsspamcollection.zip\"\n",
    "youtube_url = \"https://archive.ics.uci.edu/ml/machine-learning-databases/00380/YouTube-Spam-Collection-v1.zip\"\n"
   ]
  },
  {
   "cell_type": "code",
   "execution_count": 15,
   "id": "b3551c4f",
   "metadata": {},
   "outputs": [],
   "source": [
    "BASE_DIR = pathlib.Path().resolve().parent\n",
    "DATASET_DIR = BASE_DIR / 'dataset'\n",
    "ZIPS_DIR = DATASET_DIR / 'zips'\n",
    "ZIPS_DIR.mkdir(exist_ok=True,parents=True)\n",
    "\n",
    "SPAM_SMS_ZIP_PATH = ZIPS_DIR / 'sms-spam-dataset.zip'\n",
    "SPAM_YOUTUBE_ZIP_PATH = ZIPS_DIR / 'youtube-spam-dataset.zip'"
   ]
  },
  {
   "cell_type": "code",
   "execution_count": 17,
   "id": "1f7401f5",
   "metadata": {},
   "outputs": [],
   "source": [
    "SPAM_CLASSFIER_DIR = DATASET_DIR / 'spam-classifier'\n",
    "SMS_SPAM_DIR = SPAM_CLASSFIER_DIR / 'spam-sms'\n",
    "YOUTUBE_SPAM_DIR = SPAM_CLASSFIER_DIR / 'youtube-spam'\n",
    "\n",
    "SMS_SPAM_DIR.mkdir(exist_ok=True,parents=True)\n",
    "YOUTUBE_SPAM_DIR.mkdir(exist_ok=True,parents=True)"
   ]
  },
  {
   "cell_type": "code",
   "execution_count": 19,
   "id": "c3d4ebab",
   "metadata": {},
   "outputs": [
    {
     "data": {
      "text/plain": [
       "PosixPath('/mnt/c/Users/thien/Work_Space/Technology/Coding-Entrepreneurs/3.2 AI-Cassandra-API/dataset/spam-classifier/spam-sms')"
      ]
     },
     "execution_count": 19,
     "metadata": {},
     "output_type": "execute_result"
    }
   ],
   "source": [
    "SMS_SPAM_DIR"
   ]
  },
  {
   "cell_type": "code",
   "execution_count": 18,
   "id": "fe9eb5e0",
   "metadata": {},
   "outputs": [
    {
     "name": "stdout",
     "output_type": "stream",
     "text": [
      "Archive:  /mnt/c/Users/thien/Work_Space/Technology/Coding-Entrepreneurs/3.2\n",
      "checkdir:  cannot create extraction directory: /mnt/c/Users/thien/Work_Space/Technology/Coding-Entrepreneurs/3.2\n",
      "           File exists\n",
      "Archive:  /mnt/c/Users/thien/Work_Space/Technology/Coding-Entrepreneurs/3.2\n",
      "checkdir:  cannot create extraction directory: /mnt/c/Users/thien/Work_Space/Technology/Coding-Entrepreneurs/3.2\n",
      "           File exists\n"
     ]
    }
   ],
   "source": [
    "!unzip -o $SPAM_SMS_ZIP_PATH -d $SMS_SPAM_DIR\n",
    "!unzip -o $SPAM_YOUTUBE_ZIP_PATH -d $YOUTUBE_SPAM_DIR"
   ]
  },
  {
   "cell_type": "code",
   "execution_count": null,
   "id": "2a3696f4",
   "metadata": {},
   "outputs": [],
   "source": []
  }
 ],
 "metadata": {
  "kernelspec": {
   "display_name": "Python 3 (ipykernel)",
   "language": "python",
   "name": "python3"
  },
  "language_info": {
   "codemirror_mode": {
    "name": "ipython",
    "version": 3
   },
   "file_extension": ".py",
   "mimetype": "text/x-python",
   "name": "python",
   "nbconvert_exporter": "python",
   "pygments_lexer": "ipython3",
   "version": "3.8.10"
  }
 },
 "nbformat": 4,
 "nbformat_minor": 5
}
