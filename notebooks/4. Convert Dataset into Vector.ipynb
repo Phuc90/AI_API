{
 "cells": [
  {
   "cell_type": "code",
   "execution_count": 1,
   "id": "c62b333c",
   "metadata": {},
   "outputs": [],
   "source": [
    "import pathlib\n",
    "import random\n",
    "import pandas as pd"
   ]
  },
  {
   "cell_type": "code",
   "execution_count": 38,
   "id": "03fba273",
   "metadata": {},
   "outputs": [],
   "source": [
    "BASE_DIR = pathlib.Path().resolve().parent\n",
    "DATASET_DIR = BASE_DIR / 'dataset'\n",
    "EXPORT_DIR = DATASET_DIR / 'exports'\n",
    "\n",
    "SPAM_DATASET_PATH = EXPORT_DIR / 'spam-dataset.csv'\n",
    "SPAM_DATASET_PATH.exists()\n",
    "\n",
    "METADATA_EXPORT_PATH = EXPORT_DIR /'spam-metadata.pkl'\n",
    "TOKENIZER_EXPORT_PATH = EXPORT_DIR /'spam-tokenizer.json'\n"
   ]
  },
  {
   "cell_type": "code",
   "execution_count": 14,
   "id": "b79ce30f",
   "metadata": {},
   "outputs": [
    {
     "data": {
      "text/html": [
       "<div>\n",
       "<style scoped>\n",
       "    .dataframe tbody tr th:only-of-type {\n",
       "        vertical-align: middle;\n",
       "    }\n",
       "\n",
       "    .dataframe tbody tr th {\n",
       "        vertical-align: top;\n",
       "    }\n",
       "\n",
       "    .dataframe thead th {\n",
       "        text-align: right;\n",
       "    }\n",
       "</style>\n",
       "<table border=\"1\" class=\"dataframe\">\n",
       "  <thead>\n",
       "    <tr style=\"text-align: right;\">\n",
       "      <th></th>\n",
       "      <th>label</th>\n",
       "      <th>text</th>\n",
       "      <th>source</th>\n",
       "    </tr>\n",
       "  </thead>\n",
       "  <tbody>\n",
       "    <tr>\n",
       "      <th>0</th>\n",
       "      <td>ham</td>\n",
       "      <td>Go until jurong point, crazy.. Available only ...</td>\n",
       "      <td>sms_spam</td>\n",
       "    </tr>\n",
       "    <tr>\n",
       "      <th>1</th>\n",
       "      <td>ham</td>\n",
       "      <td>Ok lar... Joking wif u oni...</td>\n",
       "      <td>sms_spam</td>\n",
       "    </tr>\n",
       "    <tr>\n",
       "      <th>2</th>\n",
       "      <td>spam</td>\n",
       "      <td>Free entry in 2 a wkly comp to win FA Cup fina...</td>\n",
       "      <td>sms_spam</td>\n",
       "    </tr>\n",
       "    <tr>\n",
       "      <th>3</th>\n",
       "      <td>ham</td>\n",
       "      <td>U dun say so early hor... U c already then say...</td>\n",
       "      <td>sms_spam</td>\n",
       "    </tr>\n",
       "    <tr>\n",
       "      <th>4</th>\n",
       "      <td>ham</td>\n",
       "      <td>Nah I don't think he goes to usf, he lives aro...</td>\n",
       "      <td>sms_spam</td>\n",
       "    </tr>\n",
       "  </tbody>\n",
       "</table>\n",
       "</div>"
      ],
      "text/plain": [
       "  label                                               text    source\n",
       "0   ham  Go until jurong point, crazy.. Available only ...  sms_spam\n",
       "1   ham                      Ok lar... Joking wif u oni...  sms_spam\n",
       "2  spam  Free entry in 2 a wkly comp to win FA Cup fina...  sms_spam\n",
       "3   ham  U dun say so early hor... U c already then say...  sms_spam\n",
       "4   ham  Nah I don't think he goes to usf, he lives aro...  sms_spam"
      ]
     },
     "execution_count": 14,
     "metadata": {},
     "output_type": "execute_result"
    }
   ],
   "source": [
    "df = pd.read_csv(SPAM_DATASET_PATH)\n",
    "df.head()"
   ]
  },
  {
   "cell_type": "code",
   "execution_count": 17,
   "id": "00ffc162",
   "metadata": {},
   "outputs": [],
   "source": [
    "labels = df.label.tolist()\n",
    "texts = df.text.tolist()"
   ]
  },
  {
   "cell_type": "code",
   "execution_count": 20,
   "id": "0507dd9a",
   "metadata": {},
   "outputs": [
    {
     "data": {
      "text/plain": [
       "('spam',\n",
       " 'PRIVATE! Your 2004 Account Statement for 07742676969 shows 786 unredeemed Bonus Points. To claim call 08719180248 Identifier Code: 45239 Expires')"
      ]
     },
     "execution_count": 20,
     "metadata": {},
     "output_type": "execute_result"
    }
   ],
   "source": [
    "labels[120], texts[120]"
   ]
  },
  {
   "cell_type": "code",
   "execution_count": 21,
   "id": "6f1b03b6",
   "metadata": {},
   "outputs": [
    {
     "data": {
      "text/plain": [
       "{'1': 'spam', '0': 'ham'}"
      ]
     },
     "execution_count": 21,
     "metadata": {},
     "output_type": "execute_result"
    }
   ],
   "source": [
    "label_legend = {'spam':1,'ham':0}\n",
    "label_legend_inverted = {f\"{v}\":k for k,v in label_legend.items()}\n",
    "label_legend_inverted"
   ]
  },
  {
   "cell_type": "code",
   "execution_count": 22,
   "id": "cba51592",
   "metadata": {},
   "outputs": [
    {
     "data": {
      "text/plain": [
       "[0, 0, 1, 0, 0, 1, 0, 0, 1, 1]"
      ]
     },
     "execution_count": 22,
     "metadata": {},
     "output_type": "execute_result"
    }
   ],
   "source": [
    "labels_as_int = [ label_legend[i] for i in labels]\n",
    "labels_as_int[:10]"
   ]
  },
  {
   "cell_type": "code",
   "execution_count": 29,
   "id": "685deca4",
   "metadata": {},
   "outputs": [],
   "source": [
    "random_idx = random.randint(0,len(labels))\n",
    "assert label_legend_inverted[str(labels_as_int[random_idx])] == df.iloc[random_idx].label\n",
    "assert texts[random_idx] == df.iloc[random_idx].text\n",
    "assert labels[random_idx] == df.iloc[random_idx].label"
   ]
  },
  {
   "cell_type": "code",
   "execution_count": 39,
   "id": "b3b860e6",
   "metadata": {},
   "outputs": [],
   "source": [
    "from tensorflow.keras.preprocessing.text import Tokenizer\n",
    "from tensorflow.keras.preprocessing.sequence import pad_sequences\n",
    "from tensorflow.keras.utils import to_categorical\n",
    "import numpy as np\n",
    "from sklearn.model_selection import train_test_split\n",
    "import pickle"
   ]
  },
  {
   "cell_type": "code",
   "execution_count": 37,
   "id": "f56a3cf3",
   "metadata": {},
   "outputs": [],
   "source": [
    "MAX_NUM_WORDS = 280\n",
    "MAX_SEQ_LENGTH = 300\n",
    "tokenizer = Tokenizer(MAX_NUM_WORDS)\n",
    "tokenizer.fit_on_texts(texts)\n",
    "sequences = tokenizer.texts_to_sequences(texts)\n",
    "\n",
    "word_index = tokenizer.word_index\n",
    "\n",
    "labels_as_int_array = np.asarray(labels_as_int)\n",
    "\n",
    "X = pad_sequences(sequences,MAX_SEQ_LENGTH)\n",
    "Y = to_categorical(labels_as_int_array)\n"
   ]
  },
  {
   "cell_type": "code",
   "execution_count": 42,
   "id": "268c9763",
   "metadata": {},
   "outputs": [],
   "source": [
    "X_train, X_test, y_train, y_test = train_test_split(X,Y,train_size=0.8,random_state=42)\n",
    "\n",
    "\n",
    "training_data = {\n",
    "    \"X_train\": X_train,\n",
    "    'X_test' :X_test,\n",
    "    'y_train':y_train,\n",
    "    'y_test':y_test,\n",
    "    'max_words':MAX_NUM_WORDS,\n",
    "    'max_seq_length':MAX_SEQ_LENGTH,\n",
    "    'label_legend':label_legend,\n",
    "    'label_legend_inverted':label_legend_inverted\n",
    "}\n",
    "\n",
    "tokenizer_json = tokenizer.to_json()\n",
    "TOKENIZER_EXPORT_PATH.write_text(tokenizer_json)\n",
    "\n",
    "with open(METADATA_EXPORT_PATH,'wb') as f:\n",
    "    pickle.dump(training_data,f)\n",
    "\n"
   ]
  },
  {
   "cell_type": "code",
   "execution_count": null,
   "id": "68045692",
   "metadata": {},
   "outputs": [],
   "source": []
  }
 ],
 "metadata": {
  "kernelspec": {
   "display_name": "Python 3 (ipykernel)",
   "language": "python",
   "name": "python3"
  },
  "language_info": {
   "codemirror_mode": {
    "name": "ipython",
    "version": 3
   },
   "file_extension": ".py",
   "mimetype": "text/x-python",
   "name": "python",
   "nbconvert_exporter": "python",
   "pygments_lexer": "ipython3",
   "version": "3.8.10"
  }
 },
 "nbformat": 4,
 "nbformat_minor": 5
}
