{
 "cells": [
  {
   "cell_type": "code",
   "execution_count": 1,
   "id": "e4418234",
   "metadata": {},
   "outputs": [],
   "source": [
    "import pathlib\n"
   ]
  },
  {
   "cell_type": "code",
   "execution_count": 3,
   "id": "b282040b",
   "metadata": {},
   "outputs": [],
   "source": [
    "spam_url = \"https://archive.ics.uci.edu/ml/machine-learning-databases/00228/smsspamcollection.zip\"\n",
    "youtube_url = \"https://archive.ics.uci.edu/ml/machine-learning-databases/00380/YouTube-Spam-Collection-v1.zip\"\n"
   ]
  },
  {
   "cell_type": "code",
   "execution_count": 12,
   "id": "b3551c4f",
   "metadata": {},
   "outputs": [],
   "source": [
    "BASE_DIR = pathlib.Path().resolve().parent\n",
    "DATASET_DIR = BASE_DIR / 'dataset'\n",
    "ZIPS_DIR = DATASET_DIR / 'zips'\n",
    "ZIPS_DIR.mkdir(exist_ok=True,parents=True)\n",
    "\n",
    "SPAM_SMS_ZIP_PATH = ZIPS_DIR/ 'sms-spam-dataset.zip'\n",
    "SPAM_YOUTUBE_ZIP_PATH = ZIPS_DIR/ 'youtube-spam-dataset.zip'"
   ]
  },
  {
   "cell_type": "code",
   "execution_count": 11,
   "id": "58c57953",
   "metadata": {},
   "outputs": [
    {
     "name": "stdout",
     "output_type": "stream",
     "text": [
      "  % Total    % Received % Xferd  Average Speed   Time    Time     Time  Current\n",
      "                                 Dload  Upload   Total   Spent    Left  Speed\n",
      "100  198k  100  198k    0     0   102k      0  0:00:01  0:00:01 --:--:--  102k\n",
      "curl: (28) Failed to connect to AI-Cassandra-API port 80: Connection timed out\n",
      "  % Total    % Received % Xferd  Average Speed   Time    Time     Time  Current\n",
      "                                 Dload  Upload   Total   Spent    Left  Speed\n",
      "100  159k  100  159k    0     0  57797      0  0:00:02  0:00:02 --:--:-- 57777\n",
      "curl: (28) Failed to connect to AI-Cassandra-API port 80: Connection timed out\n"
     ]
    }
   ],
   "source": [
    "!curl $spam_url -o $SPAM_SMS_ZIP_PATH\n",
    "!curl $youtube_url -o $SPAM_YOUTUBE_ZIP_PATH"
   ]
  },
  {
   "cell_type": "code",
   "execution_count": null,
   "id": "1f7401f5",
   "metadata": {},
   "outputs": [],
   "source": []
  }
 ],
 "metadata": {
  "kernelspec": {
   "display_name": "Python 3 (ipykernel)",
   "language": "python",
   "name": "python3"
  },
  "language_info": {
   "codemirror_mode": {
    "name": "ipython",
    "version": 3
   },
   "file_extension": ".py",
   "mimetype": "text/x-python",
   "name": "python",
   "nbconvert_exporter": "python",
   "pygments_lexer": "ipython3",
   "version": "3.8.10"
  }
 },
 "nbformat": 4,
 "nbformat_minor": 5
}
